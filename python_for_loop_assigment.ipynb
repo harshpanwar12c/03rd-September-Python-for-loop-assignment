{
 "cells": [
  {
   "cell_type": "code",
   "execution_count": 1,
   "id": "2a3fff6c-e86e-4f25-b03c-eaee5a4e7068",
   "metadata": {},
   "outputs": [],
   "source": [
    "# Basic Level:"
   ]
  },
  {
   "cell_type": "code",
   "execution_count": null,
   "id": "6df98dc8-6ad4-40e0-b9d7-bc95b759f20f",
   "metadata": {},
   "outputs": [],
   "source": []
  },
  {
   "cell_type": "code",
   "execution_count": 2,
   "id": "9806fb79-3437-4bc9-879b-2b5ec6266b31",
   "metadata": {},
   "outputs": [
    {
     "name": "stdout",
     "output_type": "stream",
     "text": [
      "1\n",
      "2\n",
      "3\n",
      "4\n",
      "5\n",
      "6\n",
      "7\n",
      "8\n",
      "9\n",
      "10\n"
     ]
    }
   ],
   "source": [
    "# 1. Write a Python program to print the numbers from 1 to 10 using a `for` loop.\n",
    "\n",
    "for i in range(1,11):\n",
    "    print(i)"
   ]
  },
  {
   "cell_type": "code",
   "execution_count": 5,
   "id": "9c438c51-0baa-45b3-a32a-75914c94592e",
   "metadata": {},
   "outputs": [
    {
     "name": "stdout",
     "output_type": "stream",
     "text": [
      "55\n"
     ]
    }
   ],
   "source": [
    "# 2. Create a program that calculates the sum of all numbers in a list using a `for` loop.\n",
    "\n",
    "l1 = [1,2,3,4,5,6,7,8,9,10]\n",
    "t_sum = int()\n",
    "\n",
    "for i in l1:\n",
    "    t_sum += i\n",
    "\n",
    "print(t_sum)"
   ]
  },
  {
   "cell_type": "code",
   "execution_count": 7,
   "id": "3f2bd1f7-acb7-4e9c-8f66-b082138e2cc4",
   "metadata": {},
   "outputs": [
    {
     "name": "stdin",
     "output_type": "stream",
     "text": [
      "enter your string here  harsh\n"
     ]
    },
    {
     "name": "stdout",
     "output_type": "stream",
     "text": [
      "hsrah"
     ]
    }
   ],
   "source": [
    "# 3. Write a program to print the characters of a string in reverse order using a `for` loop.\n",
    "\n",
    "word = input(\"enter your string here \")\n",
    "\n",
    "rev_word = word[::-1]\n",
    "\n",
    "for i in rev_word:\n",
    "    print(i, end = \"\")\n",
    "    \n",
    "\n",
    "\n"
   ]
  },
  {
   "cell_type": "code",
   "execution_count": 1,
   "id": "49c5824b-f950-48f9-947e-da7217b9c4fc",
   "metadata": {},
   "outputs": [
    {
     "name": "stdin",
     "output_type": "stream",
     "text": [
      "enter your number here  4\n"
     ]
    },
    {
     "name": "stdout",
     "output_type": "stream",
     "text": [
      "factorial of 4 is 24\n"
     ]
    }
   ],
   "source": [
    "# 4. Develop a program that finds the factorial of a given number using a `for` loop.\n",
    "\n",
    "num = int(input(\"enter your number here \"))\n",
    "\n",
    "if num==1:\n",
    "    print(f\"factorial of {num} is {num}\")\n",
    "\n",
    "else:\n",
    "    a=1\n",
    "    for i in range (1,num+1):\n",
    "        a = i*a\n",
    "    \n",
    "    print(f\"factorial of {num} is {a}\")\n",
    "    \n",
    "    \n",
    "\n",
    "\n"
   ]
  },
  {
   "cell_type": "code",
   "execution_count": 18,
   "id": "f777645a-fcd2-46a6-a1fb-636fc048c8b7",
   "metadata": {},
   "outputs": [
    {
     "name": "stdin",
     "output_type": "stream",
     "text": [
      "enter your number here : 7\n"
     ]
    },
    {
     "name": "stdout",
     "output_type": "stream",
     "text": [
      "7 X 1 = 7\n",
      "7 X 2 = 14\n",
      "7 X 3 = 21\n",
      "7 X 4 = 28\n",
      "7 X 5 = 35\n",
      "7 X 6 = 42\n",
      "7 X 7 = 49\n",
      "7 X 8 = 56\n",
      "7 X 9 = 63\n",
      "7 X 10 = 70\n"
     ]
    }
   ],
   "source": [
    "# 5. Create a program to print the multiplication table of a given number using a `for` loop.\n",
    "\n",
    "\n",
    "num = int(input(\"enter your number here :\"))\n",
    "\n",
    "for i in range(1,11):\n",
    "    print(f\"{num}\", \"X\" , i ,\"=\" ,num*i)\n",
    " "
   ]
  },
  {
   "cell_type": "code",
   "execution_count": 22,
   "id": "c1fe6db5-147d-4142-bee0-2dda125a2eea",
   "metadata": {},
   "outputs": [
    {
     "name": "stdout",
     "output_type": "stream",
     "text": [
      "total number of even in the given list is 5\n",
      "total number of odd in the given list is 6\n"
     ]
    }
   ],
   "source": [
    "# 6. Write a program that counts the number of even and odd numbers in a list using a `for` loop.\n",
    "\n",
    "l = [1,2,3,4,5,6,7,8,9,10,11]\n",
    "\n",
    "even_list = []\n",
    "\n",
    "odd_list = []\n",
    "\n",
    "for i in l:\n",
    "    \n",
    "    if i%2==0:\n",
    "        even_list.append(i)\n",
    "    \n",
    "    else:\n",
    "        odd_list.append(i)\n",
    "\n",
    "print(f\"total number of even in the given list is {len(even_list)}\") \n",
    "print(f\"total number of odd in the given list is {len(odd_list)}\") \n"
   ]
  },
  {
   "cell_type": "code",
   "execution_count": 23,
   "id": "45543848-7660-43b8-9041-a28541ca9139",
   "metadata": {},
   "outputs": [
    {
     "name": "stdout",
     "output_type": "stream",
     "text": [
      "1\n",
      "4\n",
      "9\n",
      "16\n",
      "25\n"
     ]
    }
   ],
   "source": [
    "# 7. Develop a program that prints the squares of numbers from 1 to 5 using a `for` loop.\n",
    "\n",
    "for i in range(1,6):\n",
    "    print(i**2)\n",
    "\n"
   ]
  },
  {
   "cell_type": "code",
   "execution_count": 1,
   "id": "75849a4d-b539-4712-8819-db6f51043b0e",
   "metadata": {},
   "outputs": [
    {
     "name": "stdin",
     "output_type": "stream",
     "text": [
      "enter your string here:  harsh\n"
     ]
    },
    {
     "name": "stdout",
     "output_type": "stream",
     "text": [
      "length of the word harsh is 5\n"
     ]
    }
   ],
   "source": [
    "# 8. Create a program to find the length of a string without using the `len()` function.\n",
    "\n",
    "word = input(\"enter your string here: \")\n",
    "\n",
    "count = 0\n",
    "for i in word:\n",
    "    count+=1\n",
    "\n",
    "print(f\"length of the word {word} is {count}\")"
   ]
  },
  {
   "cell_type": "code",
   "execution_count": 16,
   "id": "6f8caf2d-1f97-4db1-8e59-2d91b17f4d66",
   "metadata": {},
   "outputs": [
    {
     "name": "stdout",
     "output_type": "stream",
     "text": [
      "45\n",
      "the avreage of the given list is 4.5\n"
     ]
    }
   ],
   "source": [
    "# 9. Write a program that calculates the average of a list of numbers using a for loop.\n",
    "\n",
    "l = [1,2,3,4,5,6,7,8,9,10]\n",
    "a = 0\n",
    "\n",
    "for i in range (1, len(l)):\n",
    "    \n",
    "    a += i\n",
    "    \n",
    "    \n",
    "print(a)\n",
    "print(f\"the avreage of the given list is {a/len(l)}\")    \n",
    "    "
   ]
  },
  {
   "cell_type": "code",
   "execution_count": 23,
   "id": "adb12c34-c5be-42d9-9125-b8b93ab9d1d7",
   "metadata": {},
   "outputs": [
    {
     "name": "stdin",
     "output_type": "stream",
     "text": [
      "Enter the number of terms:  8\n"
     ]
    },
    {
     "name": "stdout",
     "output_type": "stream",
     "text": [
      "0 1 1 2 3 5 8 13 "
     ]
    }
   ],
   "source": [
    "# 10. Develop a program that prints the first `n` Fibonacci numbers using a `for` loop.\n",
    "n=int(input(\"Enter the number of terms: \"))\n",
    "a=0 \n",
    "b=1 \n",
    "if n<=0:\n",
    "    print(\"The Output of your input is\",a)\n",
    "else:\n",
    "    print(a,b,end=\" \")\n",
    "    for x in range(2,n):\n",
    "        c=a+b\n",
    "        print(c,end=\" \")\n",
    "        a=b\n",
    "        b=c"
   ]
  },
  {
   "cell_type": "code",
   "execution_count": 24,
   "id": "281a645e-78b3-4be1-8244-ae262dd9ebb9",
   "metadata": {},
   "outputs": [],
   "source": [
    "# Intermediate Level:"
   ]
  },
  {
   "cell_type": "code",
   "execution_count": 5,
   "id": "ed5e11bc-cbb6-4fc7-b168-85f502fbdb63",
   "metadata": {},
   "outputs": [
    {
     "name": "stdout",
     "output_type": "stream",
     "text": [
      "[3, 2, 1]\n"
     ]
    }
   ],
   "source": [
    "# 11. Write a program to check if a given list contains any duplicates using a `for` loop.\n",
    "l = [\"harsh\", \"panwar\", 1,2,3,3,2,1,5,6,7,8,9]\n",
    "\n",
    "ul= []\n",
    "# ul for unique list\n",
    "\n",
    "dl=[]\n",
    "# dl for duplicate list\n",
    "\n",
    "for i in l:\n",
    "    if i not in ul:\n",
    "        ul.append(i)\n",
    "#         every first element will be added to ul and if it gets repeated we will add it to dl. \n",
    "    elif i not in dl:\n",
    "        dl.append(i)\n",
    "\n",
    "print(dl)\n",
    "   \n"
   ]
  },
  {
   "cell_type": "code",
   "execution_count": 34,
   "id": "dd0ee586-3d77-4e27-bc33-65fd8663255a",
   "metadata": {},
   "outputs": [
    {
     "name": "stdin",
     "output_type": "stream",
     "text": [
      "enter your number here  9\n"
     ]
    },
    {
     "name": "stdout",
     "output_type": "stream",
     "text": [
      "2 3 5 7 "
     ]
    }
   ],
   "source": [
    "# 12. Create a program that prints the prime numbers in a given range using a `for` loop.\n",
    "\n",
    "num = int(input(\"enter your number here \"))\n",
    "    \n",
    "for i in range(1, num+1):\n",
    "    if i>1:\n",
    "        for a in range (2,i):\n",
    "            if (i%a)==0:\n",
    "                break\n",
    "        else:\n",
    "            print(i, end = \" \")\n",
    "    \n",
    "        "
   ]
  },
  {
   "cell_type": "code",
   "execution_count": 40,
   "id": "4e918042-ebe5-46aa-9ab2-0c10e8d21376",
   "metadata": {},
   "outputs": [
    {
     "name": "stdin",
     "output_type": "stream",
     "text": [
      "enter your number here mynameisharsh\n"
     ]
    },
    {
     "name": "stdout",
     "output_type": "stream",
     "text": [
      "total number of vowels in mynameisharsh is 4\n"
     ]
    }
   ],
   "source": [
    "# 13. Develop a program that counts the number of vowels in a string using a `for` loop.\n",
    "\n",
    "word = input(\"enter your number here\")\n",
    "\n",
    "a = ['a','e','i','o','u','A','E','I','O','U']\n",
    "vowel_count = []\n",
    "\n",
    "for i in word:\n",
    "    if i in a:\n",
    "        vowel_count.append(i)\n",
    "    \n",
    "print(f\"total number of vowels in {word} is {len(vowel_count)}\")"
   ]
  },
  {
   "cell_type": "code",
   "execution_count": 10,
   "id": "b6b57e5c-5458-4837-b948-05786afa5d6d",
   "metadata": {},
   "outputs": [
    {
     "name": "stdout",
     "output_type": "stream",
     "text": [
      "maximum element in list matrix is:  [7, 8, 9]\n"
     ]
    }
   ],
   "source": [
    "# 14. Write a program to find the maximum element in a 2D list using a nested `for` loop.\n",
    "\n",
    "matrix = [[1,2,3],[4,5,6],[7,8,9]]\n",
    "\n",
    "total_elements = 0\n",
    "\n",
    "for row in matrix:\n",
    "    num_elements_in_row = len(row)\n",
    "    \n",
    "    total_elements += num_elements_in_row\n",
    "\n",
    "print(\"maximum element in list matrix is: \",max(matrix))"
   ]
  },
  {
   "cell_type": "code",
   "execution_count": 6,
   "id": "8a279af9-a9e0-450d-bb00-bf54ee449a01",
   "metadata": {},
   "outputs": [
    {
     "name": "stdout",
     "output_type": "stream",
     "text": [
      "[1, 2, 3, 4, 5, 6, 7, 8, 9, 10]\n"
     ]
    }
   ],
   "source": [
    "# 15. Create a program that removes all occurrences of a specific element from a list using a `for` loop.\n",
    "\n",
    "l = [1,2,3,4,5,1,2,4,5,6,7,8,9,10]\n",
    "\n",
    "ul = []\n",
    "# in ul only those elements will be added which are not occuring again\n",
    "\n",
    "dl = []\n",
    "\n",
    "for i in l:\n",
    "    if i not in ul:\n",
    "        ul.append(i)\n",
    "    \n",
    "    elif i not in dl:\n",
    "        dl.append(i)\n",
    "    \n",
    "\n",
    "print(ul)\n",
    "        \n",
    "\n",
    "\n"
   ]
  },
  {
   "cell_type": "code",
   "execution_count": 48,
   "id": "634851e4-8cbb-4ea5-b2be-6a9c99a3772a",
   "metadata": {},
   "outputs": [
    {
     "name": "stdout",
     "output_type": "stream",
     "text": [
      "1*1=1\n",
      "1*2=2\n",
      "1*3=3\n",
      "1*4=4\n",
      "1*5=5\n",
      "1*6=6\n",
      "1*7=7\n",
      "1*8=8\n",
      "1*9=9\n",
      "1*10=10\n",
      "2*1=2\n",
      "2*2=4\n",
      "2*3=6\n",
      "2*4=8\n",
      "2*5=10\n",
      "2*6=12\n",
      "2*7=14\n",
      "2*8=16\n",
      "2*9=18\n",
      "2*10=20\n",
      "3*1=3\n",
      "3*2=6\n",
      "3*3=9\n",
      "3*4=12\n",
      "3*5=15\n",
      "3*6=18\n",
      "3*7=21\n",
      "3*8=24\n",
      "3*9=27\n",
      "3*10=30\n",
      "4*1=4\n",
      "4*2=8\n",
      "4*3=12\n",
      "4*4=16\n",
      "4*5=20\n",
      "4*6=24\n",
      "4*7=28\n",
      "4*8=32\n",
      "4*9=36\n",
      "4*10=40\n",
      "5*1=5\n",
      "5*2=10\n",
      "5*3=15\n",
      "5*4=20\n",
      "5*5=25\n",
      "5*6=30\n",
      "5*7=35\n",
      "5*8=40\n",
      "5*9=45\n",
      "5*10=50\n"
     ]
    }
   ],
   "source": [
    "# 16. Develop a program that generates a multiplication table for numbers from 1 to 5 using a nested `for` loop.\n",
    "\n",
    "for i in range(1,6):\n",
    "    for a in range(1,11):\n",
    "        print(f\"{i}*{a}={a*i}\")\n",
    "\n",
    "\n",
    "\n"
   ]
  },
  {
   "cell_type": "code",
   "execution_count": 49,
   "id": "7d3f5aa0-e0ee-439f-8b83-77e84fb2f8b7",
   "metadata": {},
   "outputs": [
    {
     "name": "stdin",
     "output_type": "stream",
     "text": [
      "enter your temprature in celsius here 32\n"
     ]
    },
    {
     "name": "stdout",
     "output_type": "stream",
     "text": [
      "89.6\n"
     ]
    }
   ],
   "source": [
    "# 17. Write a program that converts a list of Fahrenheit temperatures to Celsius using a `for` loop.\n",
    "\n",
    "\n",
    "cel_temp = int(input(\"enter your temprature in celsius here\"))\n",
    "\n",
    "for i in range (1, cel_temp+1):\n",
    "    temp_far = 0\n",
    "    \n",
    "    temp_far += i*(9/5)+32\n",
    "\n",
    "print(temp_far)\n",
    "    "
   ]
  },
  {
   "cell_type": "code",
   "execution_count": 9,
   "id": "6f969472-5d07-4af6-b5c5-6889ca7beaa4",
   "metadata": {},
   "outputs": [
    {
     "name": "stdout",
     "output_type": "stream",
     "text": [
      "[2, 4, 6, 8, 10]\n"
     ]
    }
   ],
   "source": [
    "# 18. Create a program to print the common elements from two lists using a `for` loop.\n",
    "\n",
    "l1 = [1,2,3,4,5,6,7,8,9,10]\n",
    "\n",
    "l2 = [2,4,6,8,10,12,14,16,18]\n",
    "\n",
    "cl = []\n",
    "# c1 is the list of commom elements\n",
    "\n",
    "for i in l1:\n",
    "    if i in l2:\n",
    "        cl.append(i)\n",
    "    else:\n",
    "        pass\n",
    "\n",
    "print(cl)"
   ]
  },
  {
   "cell_type": "code",
   "execution_count": 2,
   "id": "f8b2de7b-d074-4968-b49c-824efa9802cc",
   "metadata": {},
   "outputs": [
    {
     "name": "stdin",
     "output_type": "stream",
     "text": [
      "enter your range here  5\n"
     ]
    },
    {
     "name": "stdout",
     "output_type": "stream",
     "text": [
      "*\n",
      "**\n",
      "***\n",
      "****\n",
      "*****\n"
     ]
    }
   ],
   "source": [
    "# 19. Develop a program that prints the pattern of right-angled triangles using a `for` loop. Use ‘*’ to draw the\n",
    "# pattern\n",
    "\n",
    "a = int(input(\"enter your range here \"))\n",
    "\n",
    "for i in range (1,a+1):\n",
    "    for j in range(i):\n",
    "        print(\"*\", end = \"\")\n",
    "    print()"
   ]
  },
  {
   "cell_type": "code",
   "execution_count": 65,
   "id": "fc14fcfc-6294-4176-a064-984036298695",
   "metadata": {},
   "outputs": [
    {
     "name": "stdin",
     "output_type": "stream",
     "text": [
      "enter your firs number here 10\n",
      "enter you second numbere here 20\n"
     ]
    },
    {
     "name": "stdout",
     "output_type": "stream",
     "text": [
      "10\n"
     ]
    }
   ],
   "source": [
    "# 20. Write a program to find the greatest common divisor (GCD) of two numbers using a `for` loop.\n",
    "\n",
    "\n",
    "\n",
    "a = int(input(\"enter your firs number here\"))\n",
    "b = int(input(\"enter you second numbere here\"))\n",
    "\n",
    "gcd = 0\n",
    "\n",
    "for i in range(1, max(a,b)):\n",
    "    \n",
    "    if a%i==0 and b%i==0:\n",
    "        gcd = i\n",
    "      \n",
    "print(gcd)\n",
    "        \n",
    " \n"
   ]
  },
  {
   "cell_type": "code",
   "execution_count": 1,
   "id": "6b8c8c04-091f-489e-9ad2-d0dc207f2f48",
   "metadata": {},
   "outputs": [],
   "source": [
    "# Advanced Level:"
   ]
  },
  {
   "cell_type": "code",
   "execution_count": 13,
   "id": "77a8b801-080c-436c-b722-daeb72a55b2c",
   "metadata": {},
   "outputs": [
    {
     "name": "stdout",
     "output_type": "stream",
     "text": [
      "55\n"
     ]
    }
   ],
   "source": [
    "# 21. Create a program that calculates the sum of the digits of numbers in a list using a list comprehension.append\n",
    "\n",
    "l = [1,2,3,4,5,6,7,8,9,10]\n",
    "\n",
    "ls= []\n",
    "\n",
    "ts = 0 \n",
    "\n",
    "for i in l:\n",
    "    ts +=i\n",
    "ls.append(ts)\n",
    "\n",
    "\n",
    "print(sum(ls))\n",
    "\n",
    "\n",
    "    "
   ]
  },
  {
   "cell_type": "code",
   "execution_count": 8,
   "id": "c6b44175-7919-45b0-83b7-af11a8a3a34d",
   "metadata": {},
   "outputs": [
    {
     "name": "stdin",
     "output_type": "stream",
     "text": [
      "enter your number here  35\n"
     ]
    },
    {
     "name": "stdout",
     "output_type": "stream",
     "text": [
      "prime factors of 1 are [5, 7]\n"
     ]
    }
   ],
   "source": [
    "# 22. Write a program to find the prime factors of a given number using a `for` loop and list comprehension.\n",
    "num = int(input(\"enter your number here \"))\n",
    "p_f = []\n",
    "\n",
    "if num==1:\n",
    "    print(f\"{num} is not a prime number\")\n",
    "\n",
    "elif num>1:\n",
    "    for i in range(2,num+1):          \n",
    "          \n",
    "        if num%i==0:\n",
    "            p_f.append(i)\n",
    "            num = num // i  # Reduce num by dividing it by i\n",
    "        else:\n",
    "            i += 1\n",
    "            \n",
    "          \n",
    "        \n",
    "print(f\"prime factors of {num} are {p_f}\")          \n",
    "              \n",
    "          \n",
    "                      "
   ]
  },
  {
   "cell_type": "code",
   "execution_count": 5,
   "id": "c51ab551-6c1c-48c5-9222-8b4a6c03be04",
   "metadata": {},
   "outputs": [
    {
     "name": "stdin",
     "output_type": "stream",
     "text": [
      "Enter your number here:  10\n"
     ]
    },
    {
     "name": "stdout",
     "output_type": "stream",
     "text": [
      "Prime factors of 1 are [2, 5]\n"
     ]
    }
   ],
   "source": [
    "num = int(input(\"Enter your number here: \"))\n",
    "p_f = []\n",
    "\n",
    "if num == 1:\n",
    "    print(f\"{num} is not a prime number\")\n",
    "elif num > 1:\n",
    "    i = 2\n",
    "    while i <= num:\n",
    "        if num % i == 0:\n",
    "            p_f.append(i)\n",
    "            num = num // i  # Reduce num by dividing it by i\n",
    "        else:\n",
    "            i += 1\n",
    "\n",
    "print(f\"Prime factors of {num} are {p_f}\")"
   ]
  },
  {
   "cell_type": "code",
   "execution_count": 1,
   "id": "67ef2328-86f8-4efa-80d5-a8f1f6edbbbc",
   "metadata": {},
   "outputs": [
    {
     "name": "stdout",
     "output_type": "stream",
     "text": [
      "['!', '@', '(']\n"
     ]
    }
   ],
   "source": [
    "# 23. Develop a program that extracts unique elements from a list and stores them in a new list using a list\n",
    "# comprehension.\n",
    "\n",
    "\n",
    "spl_chr = ['!', '@', '#', '%', '^', '&', '*', '(', ')']\n",
    "\n",
    "word = [\"harsh\", \"!\", \"panwar\", \"@\", \"Sachin\", \"(\"]\n",
    "nw_list = []\n",
    "\n",
    "for i in word:\n",
    "    if i in spl_chr:\n",
    "        nw_list.append(i)\n",
    "    \n",
    "print(nw_list)\n",
    "    \n",
    "\n"
   ]
  },
  {
   "cell_type": "code",
   "execution_count": 1,
   "id": "d44a1ebe-e92f-44a7-8ca7-f18f11d58b8c",
   "metadata": {},
   "outputs": [
    {
     "name": "stdout",
     "output_type": "stream",
     "text": [
      "[1, 2, 3, 4, 5, 6, 7]\n"
     ]
    }
   ],
   "source": [
    "# 25. Write a program to flatten a nested list using list comprehension.\n",
    "\n",
    "my_list = [[1], [2, 3], [4, 5, 6, 7]]\n",
    "\n",
    "flat_list = []\n",
    "for sublist in my_list:\n",
    "    for num in sublist:\n",
    "        flat_list.append(num)\n",
    "\n",
    "print(flat_list)\n"
   ]
  },
  {
   "cell_type": "code",
   "execution_count": 3,
   "id": "a67ca4eb-332f-40aa-b9ab-37510e830dd3",
   "metadata": {},
   "outputs": [
    {
     "name": "stdin",
     "output_type": "stream",
     "text": [
      "Enter a limit for palindromic numbers:  200\n"
     ]
    },
    {
     "name": "stdout",
     "output_type": "stream",
     "text": [
      "Palindromic numbers up to 200 are:\n",
      "[0, 1, 2, 3, 4, 5, 6, 7, 8, 9, 11, 22, 33, 44, 55, 66, 77, 88, 99, 101, 111, 121, 131, 141, 151, 161, 171, 181, 191]\n"
     ]
    }
   ],
   "source": [
    "# 24. Create a program that generates a list of all palindromic numbers up to a specified limit using a list\n",
    "# comprehension.\n",
    "\n",
    "# Input: Limit for generating palindromic numbers\n",
    "limit = int(input(\"Enter a limit for palindromic numbers: \"))\n",
    "\n",
    "# Use list comprehension to generate a list of palindromic numbers up to the limit\n",
    "palindromic_list = [num for num in range(limit + 1) if str(num) == str(num)[::-1]]\n",
    "\n",
    "print(\"Palindromic numbers up to\", limit, \"are:\")\n",
    "print(palindromic_list)\n",
    "\n",
    "    \n",
    "\n",
    "\n",
    "\n"
   ]
  },
  {
   "cell_type": "code",
   "execution_count": 3,
   "id": "e5b45b20-ec92-420c-892e-bb9a9021e891",
   "metadata": {},
   "outputs": [
    {
     "name": "stdout",
     "output_type": "stream",
     "text": [
      "70\n",
      "55\n"
     ]
    }
   ],
   "source": [
    "# 26. Develop a program that computes the sum of even and odd numbers in a list separately using list\n",
    "# comprehension.\n",
    "\n",
    "l = [1,2,3,4,5,6,7,8,9,10]\n",
    "even_sum = 0\n",
    "odd_sum = 0\n",
    "\n",
    "even_list = []\n",
    "odd_list = []\n",
    "\n",
    "for i in l:\n",
    "    if i%2==0:\n",
    "        even_sum += i\n",
    "        even_list.append(even_sum)\n",
    "    \n",
    "    else:\n",
    "        odd_sum += i\n",
    "        odd_list.append(odd_sum)\n",
    "\n",
    "print(sum(even_list))\n",
    "print(sum(odd_list))"
   ]
  },
  {
   "cell_type": "code",
   "execution_count": 12,
   "id": "4c2b516e-c714-455f-86ea-94b0073c5582",
   "metadata": {},
   "outputs": [
    {
     "name": "stdout",
     "output_type": "stream",
     "text": [
      "[1, 10, 35, 84, 165]\n"
     ]
    }
   ],
   "source": [
    "# 27. Create a program that generates a list of squares of odd numbers between 1 and 10 using list\n",
    "# comprehension.\n",
    "\n",
    "odd_sqr = []\n",
    "odd_sum = 0\n",
    "\n",
    "for i in range (1,11):\n",
    "    if i%2!=0:\n",
    "        odd_sum += i**2\n",
    "        odd_sqr.append(odd_sum)\n",
    "\n",
    "print(odd_sqr)"
   ]
  },
  {
   "cell_type": "code",
   "execution_count": 17,
   "id": "8da500c9-687f-44ff-a4e8-7976798080e6",
   "metadata": {},
   "outputs": [
    {
     "name": "stdout",
     "output_type": "stream",
     "text": [
      "{'Name': 52119643, 'Course': 52119643, 'EMPID': 52119643}\n"
     ]
    }
   ],
   "source": [
    "# 28. Write a python program that combines two lists into a dictionary using list comprehension.\n",
    "\n",
    "\n",
    "# NOT DONE PROPERLY\n",
    "\n",
    "keys = [\"Name\", \"Course\", \"EMPID\"]\n",
    "\n",
    "values = [\"Harsh\", \"FSDSP\", 52119643]\n",
    "\n",
    "res = {}\n",
    "\n",
    "for key in keys:\n",
    "        for val in values:\n",
    "            res[key]=val\n",
    "    \n",
    "\n",
    "print(res)"
   ]
  },
  {
   "cell_type": "code",
   "execution_count": 19,
   "id": "9459734c-23cd-4375-8719-50f5370fac99",
   "metadata": {},
   "outputs": [
    {
     "name": "stdin",
     "output_type": "stream",
     "text": [
      "enter your string here harsh\n"
     ]
    },
    {
     "name": "stdout",
     "output_type": "stream",
     "text": [
      "['a']\n"
     ]
    }
   ],
   "source": [
    "# 29. Develop a program that extracts the vowels from a string and stores them in a list using list comprehension.\n",
    "\n",
    "a = ['a','e','i','o','u','A','E','I','O','U']\n",
    "vowel_count = []\n",
    "\n",
    "\n",
    "word = input(\"enter your string here\")\n",
    "\n",
    "for char in word:\n",
    "    if char in a:\n",
    "        vowel_count.append(char)\n",
    "    \n",
    "print(vowel_count)\n",
    "        "
   ]
  },
  {
   "cell_type": "code",
   "execution_count": 22,
   "id": "d3539870-8d11-45d7-8ca8-a413e88d0dba",
   "metadata": {},
   "outputs": [
    {
     "name": "stdin",
     "output_type": "stream",
     "text": [
      "enter your mixed string here:  harsh@1234\n"
     ]
    },
    {
     "name": "stdout",
     "output_type": "stream",
     "text": [
      " non numeric characters from a list are harsh@\n"
     ]
    }
   ],
   "source": [
    "# 30. Create a program that removes all non-numeric characters from a list of strings using list comprehension.\n",
    "\n",
    "non_numeric = ['!', '@', '#', '%', '^', '&', '*', '(', ')', \n",
    "               'a','b','c','d','e','f','g','h','i','j','k','l','m',\n",
    "               'n','o','p','q','u','r','i','s','t','v','w','x','y','z',\n",
    "               'A','B','C','D','E','F','G','H','I','J','K','L','M','N','O',\n",
    "               'P','Q','R','S','T','U','V','W','X','Y','Z']\n",
    "\n",
    "word = input(\"enter your mixed string here: \")\n",
    "numer_str = \"\"\n",
    "\n",
    "for char in word:\n",
    "    if char in non_numeric:\n",
    "        numer_str += char\n",
    "\n",
    "print(f\" non numeric characters from a list are {numer_str}\")"
   ]
  },
  {
   "cell_type": "code",
   "execution_count": 23,
   "id": "767db358-1769-4424-9d07-2cd8b7bff97d",
   "metadata": {},
   "outputs": [],
   "source": [
    "# Challenge Level:"
   ]
  },
  {
   "cell_type": "code",
   "execution_count": 1,
   "id": "c5dae645-d6d9-4e52-8a5d-91be525f9f15",
   "metadata": {},
   "outputs": [
    {
     "name": "stdin",
     "output_type": "stream",
     "text": [
      "Enter a limit for prime numbers:  10\n"
     ]
    },
    {
     "name": "stdout",
     "output_type": "stream",
     "text": [
      "Prime numbers up to 10 are:\n",
      "[2, 3, 5, 7]\n"
     ]
    }
   ],
   "source": [
    "# 31. Write a program to generate a list of prime numbers using the Sieve of Eratosthenes algorithm and list\n",
    "# comprehension.\n",
    "\n",
    "def sieve_of_eratosthenes(limit):\n",
    "    # Create a list of boolean values to represent whether numbers are prime or not\n",
    "    sieve = [True] * (limit + 1)\n",
    "    sieve[0] = sieve[1] = False  # 0 and 1 are not prime numbers\n",
    "\n",
    "    # Mark multiples of each prime number as non-prime\n",
    "    for current in range(2, int(limit**0.5) + 1):\n",
    "        if sieve[current]:\n",
    "            for multiple in range(current * current, limit + 1, current):\n",
    "                sieve[multiple] = False\n",
    "\n",
    "    # Use list comprehension to generate the list of prime numbers\n",
    "    primes = [num for num in range(2, limit + 1) if sieve[num]]\n",
    "\n",
    "    return primes\n",
    "\n",
    "# Input: Limit for generating prime numbers\n",
    "limit = int(input(\"Enter a limit for prime numbers: \"))\n",
    "prime_list = sieve_of_eratosthenes(limit)\n",
    "\n",
    "print(\"Prime numbers up to\", limit, \"are:\")\n",
    "print(prime_list)"
   ]
  },
  {
   "cell_type": "code",
   "execution_count": 4,
   "id": "a7f4be16-c39e-4c2d-93cc-e8dd3f782515",
   "metadata": {},
   "outputs": [
    {
     "name": "stdin",
     "output_type": "stream",
     "text": [
      "Enter a limit for Pythagorean triplets:  9\n"
     ]
    },
    {
     "name": "stdout",
     "output_type": "stream",
     "text": [
      "Pythagorean triplets up to 9 are:\n",
      "[(3, 4, 5)]\n"
     ]
    }
   ],
   "source": [
    "# 32. Create a program that generates a list of all Pythagorean triplets up to a specified limit using list\n",
    "# comprehension.\n",
    "\n",
    "# Input: Limit for generating Pythagorean triplets\n",
    "limit = int(input(\"Enter a limit for Pythagorean triplets: \"))\n",
    "\n",
    "# Use list comprehension to generate a list of Pythagorean triplets up to the limit\n",
    "pythagorean_triplets = [(a, b, c) for a in range(1, limit + 1) \n",
    "                           for b in range(a, limit + 1) \n",
    "                           for c in range(b, limit + 1) \n",
    "                           if a**2 + b**2 == c**2]\n",
    "\n",
    "print(\"Pythagorean triplets up to\", limit, \"are:\")\n",
    "print(pythagorean_triplets)\n",
    "\n",
    "    "
   ]
  },
  {
   "cell_type": "code",
   "execution_count": 20,
   "id": "5203e188-33a8-4d97-b6f0-d52c67aad97f",
   "metadata": {},
   "outputs": [
    {
     "name": "stdout",
     "output_type": "stream",
     "text": [
      "[1, 2, 3, 4, 5, 6, 7, 8, 9, 10]\n"
     ]
    }
   ],
   "source": [
    "# 33. Develop a program that generates a list of all possible combinations of two lists using list comprehension.\n",
    "\n",
    "l1 = [1,2,3,4,5,6]\n",
    "l2= [7,8,9,10]\n",
    "\n",
    "nl = []\n",
    "\n",
    "for i in l1: \n",
    "    nl.append(i)\n",
    "    \n",
    "for j in l2:\n",
    "    nl.append(j)\n",
    "\n",
    "print(nl)\n",
    "\n"
   ]
  },
  {
   "cell_type": "code",
   "execution_count": 28,
   "id": "ad3ce360-a11e-4719-8b36-ad650d15ca7b",
   "metadata": {},
   "outputs": [
    {
     "name": "stdout",
     "output_type": "stream",
     "text": [
      "mean is 5.545454545454546\n",
      "mode is [6]\n",
      "median is 6\n"
     ]
    }
   ],
   "source": [
    "# 34. Write a program that calculates the mean, median, and mode of a list of numbers using list\n",
    "# comprehension.\n",
    "\n",
    "# Mean - The average value\n",
    "# Median - The mid point value\n",
    "# Mode - The most common value\n",
    "\n",
    "l = [1,2,3,4,5,6,6,7,8,9,10]\n",
    "a_l = []\n",
    "r_l= []\n",
    "sum_l = 0\n",
    "\n",
    "\n",
    "# for mean\n",
    "\n",
    "for i in l:\n",
    "    sum_l +=i\n",
    "    mean_l = sum_l/len(l)\n",
    "\n",
    "print(f\"mean is {mean_l}\")\n",
    "\n",
    "# for mode\n",
    "# if there is any repetitative value in listl, it will be the mode of the list, we will append the \n",
    "# number in the empty list \"r_l\"\n",
    "\n",
    "\n",
    "for i in l:\n",
    "    if i not in a_l:\n",
    "        a_l.append(i)\n",
    "    \n",
    "    elif i not in r_l:\n",
    "        r_l.append(i)\n",
    "\n",
    "print(f\"mode is {r_l}\")\n",
    "      \n",
    "\n",
    "# for median\n",
    "\n",
    "mid_value  = int(len(l)/2)\n",
    "\n",
    "median = l[mid_value]\n",
    "\n",
    "print(f\"median is {median}\")\n",
    "\n"
   ]
  },
  {
   "cell_type": "code",
   "execution_count": 13,
   "id": "1ca064a1-68e6-48ea-945a-ab2a2d1e85b1",
   "metadata": {},
   "outputs": [
    {
     "name": "stdin",
     "output_type": "stream",
     "text": [
      "Enter the number:  5\n"
     ]
    },
    {
     "name": "stdout",
     "output_type": "stream",
     "text": [
      "           1 \n",
      "          1      1 \n",
      "         1      2      1 \n",
      "        1      3      3      1 \n",
      "       1      4      6      4      1 \n"
     ]
    }
   ],
   "source": [
    "# 35. Create a program that generates Pascal's triangle up to a specified number of rows using list\n",
    "# comprehension.\n",
    "\n",
    "num = int(input(\"Enter the number: \"))  \n",
    "list1 = [] #an empty list  \n",
    "for i in range(num):  \n",
    "  list1.append([])  \n",
    "  list1[i].append(1)  \n",
    "  for j in range(1, i):  \n",
    "    list1[i].append(list1[i - 1][j - 1] + list1[i - 1][j])  \n",
    "  if(num != 0):  \n",
    "    list1[i].append(1)  \n",
    "for i in range(num):  \n",
    "  print(\" \" * (num - i), end = \" \", sep = \" \")  \n",
    "  for j in range(0, i + 1):  \n",
    "    print('{0:6}'.format(list1[i][j]), end = \" \", sep = \" \")  \n",
    "  print()  \n",
    "\n",
    "\n",
    "\n",
    "\n",
    "\n"
   ]
  },
  {
   "cell_type": "code",
   "execution_count": 30,
   "id": "5ca3bf56-c8bb-4e50-ad19-d1042aced0a8",
   "metadata": {},
   "outputs": [
    {
     "name": "stdout",
     "output_type": "stream",
     "text": [
      "153\n"
     ]
    }
   ],
   "source": [
    "# 36. Develop a program that calculates the sum of the digits of a factorial of numbers from 1 to 5 using list\n",
    "# comprehension.\n",
    "\n",
    "factorial_sum = []\n",
    "\n",
    "for i in range(1,6):\n",
    "    \n",
    "    # last_entry = 0\n",
    "\n",
    "    if i==1:\n",
    "        global last_entry\n",
    "        last_entry = 1\n",
    "        factorial_sum.append(last_entry)\n",
    "\n",
    "    else:\n",
    "        last_entry *= i\n",
    "            \n",
    "        factorial_sum.append(last_entry)\n",
    "        \n",
    "    i = i+1\n",
    "            \n",
    "print(sum(factorial_sum))\n",
    "\n",
    "\n",
    "\n"
   ]
  },
  {
   "cell_type": "code",
   "execution_count": 4,
   "id": "8fde9893-72fa-4c74-b0cc-abac9f28e183",
   "metadata": {},
   "outputs": [
    {
     "name": "stdout",
     "output_type": "stream",
     "text": [
      "153\n"
     ]
    }
   ],
   "source": [
    "f_sum = []\n",
    "\n",
    "for i in range (1,6):\n",
    "    if i ==1:\n",
    "        f_sum.append(i)\n",
    "    \n",
    "    else:\n",
    "        a=1\n",
    "        for j in range(2,6):\n",
    "            a = a*j\n",
    "            f_sum.append(a)\n",
    "        break\n",
    "\n",
    "print(sum(f_sum))\n",
    "    "
   ]
  },
  {
   "cell_type": "code",
   "execution_count": 16,
   "id": "b6288a88-675f-4349-88c1-2d536d735345",
   "metadata": {},
   "outputs": [
    {
     "name": "stdout",
     "output_type": "stream",
     "text": [
      "longest word in sentence 'my name is harsh panwar' is ['panwar']\n"
     ]
    }
   ],
   "source": [
    "# 37. Write a program that finds the longest word in a sentence using list comprehension.\n",
    "\n",
    "lgw_list = []\n",
    "\n",
    "a = \"my name is harsh panwar\"\n",
    "\n",
    "# a.split()\n",
    "long_word = \"\"\n",
    "for i in a.split():\n",
    "    \n",
    "    if len(i)>len(long_word):\n",
    "        long_word = i\n",
    "    \n",
    "    \n",
    "lgw_list.append(long_word)\n",
    "    \n",
    "print(f\"longest word in sentence '{a}' is {lgw_list}\")"
   ]
  },
  {
   "cell_type": "code",
   "execution_count": 4,
   "id": "a4651d04-4ba0-4203-a467-99e1d3f2e9d6",
   "metadata": {},
   "outputs": [
    {
     "name": "stdout",
     "output_type": "stream",
     "text": [
      "\n",
      "\n",
      "Satyajeet\n",
      "aashish\n"
     ]
    }
   ],
   "source": [
    "# 38. Create a program that filters a list of strings to include only those with more than three vowels using list\n",
    "# comprehension.\n",
    "\n",
    "\n",
    "word_li = [\"hrsh\", \"Ranjeet\", \"Satyajeet\",\"aashish\"]\n",
    "\n",
    "a = ['a','e','i','o','u','A','E','I','O','U']\n",
    "vowel_count = 0\n",
    "\n",
    "word = \"\"\n",
    "           \n",
    "for i in word_li:\n",
    "    # i = word\n",
    "    # print(i)\n",
    "    \n",
    "    for j in i:\n",
    "        if j in a:\n",
    "            vowel_count += 1           \n",
    "            \n",
    "            if vowel_count>3:\n",
    "                word = i    \n",
    "\n",
    "    print(word)\n",
    "    \n",
    "\n",
    "\n",
    "\n",
    "            \n",
    "    \n",
    "    \n",
    "      \n",
    "     "
   ]
  },
  {
   "cell_type": "code",
   "execution_count": 11,
   "id": "2b161fc8-b3e0-4018-92fa-785f698f9181",
   "metadata": {},
   "outputs": [
    {
     "name": "stdout",
     "output_type": "stream",
     "text": [
      "sum of numbers from 1 to 1000 is [500500] \n"
     ]
    }
   ],
   "source": [
    "# 39. Develop a program that calculates the sum of the digits of numbers from 1 to 1000 using list\n",
    "# comprehension.\n",
    "\n",
    "t_sum = 0\n",
    "ts_list = []\n",
    "\n",
    "for i in range (1,1001):\n",
    "    t_sum += i\n",
    "   \n",
    "ts_list.append(t_sum)\n",
    "\n",
    "print(f\"sum of numbers from 1 to 1000 is {ts_list} \")\n",
    "    "
   ]
  },
  {
   "cell_type": "code",
   "execution_count": 7,
   "id": "bdac75af-942d-4f38-af73-bfc305508fdc",
   "metadata": {},
   "outputs": [
    {
     "name": "stdin",
     "output_type": "stream",
     "text": [
      "Enter a limit for prime palindromic numbers:  10\n"
     ]
    },
    {
     "name": "stdout",
     "output_type": "stream",
     "text": [
      "Prime palindromic numbers up to 10 are:\n",
      "[2, 3, 5, 7]\n"
     ]
    }
   ],
   "source": [
    "# 40. Write a program that generates a list of prime palindromic numbers using list comprehension.\n",
    "\n",
    "# Input: Limit for generating prime palindromic numbers\n",
    "limit = int(input(\"Enter a limit for prime palindromic numbers: \"))\n",
    "\n",
    "# Use list comprehension to generate a list of prime palindromic numbers up to the limit\n",
    "prime_palindromic_list = [num for num in range(1, limit + 1) if num > 1 and all(num % i != 0 for i in range(2, int(num**0.5) + 1)) and str(num) == str(num)[::-1]]\n",
    "\n",
    "print(\"Prime palindromic numbers up to\", limit, \"are:\")\n",
    "print(prime_palindromic_list)\n"
   ]
  },
  {
   "cell_type": "code",
   "execution_count": null,
   "id": "d2a9f0b4-cf82-4aa2-872e-0f698bdf09eb",
   "metadata": {},
   "outputs": [],
   "source": []
  }
 ],
 "metadata": {
  "kernelspec": {
   "display_name": "Python 3 (ipykernel)",
   "language": "python",
   "name": "python3"
  },
  "language_info": {
   "codemirror_mode": {
    "name": "ipython",
    "version": 3
   },
   "file_extension": ".py",
   "mimetype": "text/x-python",
   "name": "python",
   "nbconvert_exporter": "python",
   "pygments_lexer": "ipython3",
   "version": "3.10.8"
  }
 },
 "nbformat": 4,
 "nbformat_minor": 5
}
